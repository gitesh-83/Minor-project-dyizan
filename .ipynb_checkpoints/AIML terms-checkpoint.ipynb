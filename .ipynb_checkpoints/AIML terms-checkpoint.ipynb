{
 "cells": [
  {
   "cell_type": "raw",
   "id": "bbef0b77-4547-4a23-9244-d7b7fb68866a",
   "metadata": {},
   "source": [
    "=== 15 Important AI/ML Terms with Definitions ===\n",
    "\n",
    "1. Overfitting\n",
    "When a model performs well on training data but poorly on new data due to learning noise and specific patterns rather than general relationships.\n",
    "2. Precision\n",
    "The ratio of true positive predictions to all positive predictions made by the model. Measures accuracy of positive predictions.\n",
    "3. Recall\n",
    "The ratio of true positive predictions to all actual positive cases. Measures how well the model finds all positive cases.\n",
    "4. Supervised Learning\n",
    "A machine learning approach where models are trained using labeled data with known input-output pairs.\n",
    "5. Unsupervised Learning\n",
    "Learning patterns from data without labeled examples, such as clustering or dimensionality reduction.\n",
    "6. Cross-validation\n",
    "A technique to assess model performance by dividing data into multiple training and testing sets to get more reliable results.\n",
    "7. Feature Engineering\n",
    "The process of selecting, modifying, or creating features from raw data to improve model performance.\n",
    "8. Gradient Descent\n",
    "An optimization algorithm that iteratively adjusts model parameters to minimize the loss function.\n",
    "9. Bias-Variance Tradeoff\n",
    "The balance between a model's ability to minimize bias (error from oversimplifying) and variance (error from sensitivity to small fluctuations).\n",
    "10. Regularization\n",
    "Techniques to prevent overfitting by adding penalty terms to the loss function, such as L1 or L2 regularization.\n",
    "11. Classification\n",
    "A supervised learning task where the goal is to predict discrete categories or classes for input data.\n",
    "12. Regression\n",
    "A supervised learning task focused on predicting continuous numerical values rather than discrete categories.\n",
    "13. Clustering\n",
    "An unsupervised learning technique that groups similar data points together based on their characteristics.\n",
    "14. Neural Network\n",
    "A machine learning model inspired by biological neural networks, consisting of interconnected nodes (neurons) that process information.\n",
    "15. Training Set\n",
    "The portion of data used to train a machine learning model by showing it input-output examples."
   ]
  }
 ],
 "metadata": {
  "kernelspec": {
   "display_name": "Python 3 (ipykernel)",
   "language": "python",
   "name": "python3"
  },
  "language_info": {
   "codemirror_mode": {
    "name": "ipython",
    "version": 3
   },
   "file_extension": ".py",
   "mimetype": "text/x-python",
   "name": "python",
   "nbconvert_exporter": "python",
   "pygments_lexer": "ipython3",
   "version": "3.13.5"
  }
 },
 "nbformat": 4,
 "nbformat_minor": 5
}
